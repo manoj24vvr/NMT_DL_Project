{
  "nbformat": 4,
  "nbformat_minor": 0,
  "metadata": {
    "colab": {
      "provenance": []
    },
    "kernelspec": {
      "name": "python3",
      "display_name": "Python 3"
    },
    "language_info": {
      "name": "python"
    }
  },
  "cells": [
    {
      "cell_type": "markdown",
      "source": [
        "# **Neural Machine Translation**\n",
        "### Deep Learning Project\n",
        "### Phase-1"
      ],
      "metadata": {
        "id": "Gi0FOxvr0qmW"
      }
    },
    {
      "cell_type": "markdown",
      "source": [
        "### **Metadata**:\n",
        "There are 2 columns one column has english words/sentences and the other one has german words/sentences\n",
        "And these dataset can be used for language translation task.\n",
        "\n",
        "More datasets of different languages are available and can be downloaded from the below website: \n",
        "\n",
        " http://www.manythings.org/anki/"
      ],
      "metadata": {
        "id": "2KnJfd9cQbv3"
      }
    },
    {
      "cell_type": "markdown",
      "source": [
        "## **Text Pre-processing and Analysis:**"
      ],
      "metadata": {
        "id": "7Z8ZC6zv1fG1"
      }
    },
    {
      "cell_type": "markdown",
      "source": [
        "#### Importing required libraries."
      ],
      "metadata": {
        "id": "wwsVc3x8KkrX"
      }
    },
    {
      "cell_type": "code",
      "execution_count": 1,
      "metadata": {
        "id": "-r9P0m2Y0cLp"
      },
      "outputs": [],
      "source": [
        "import string\n",
        "import re\n",
        "from numpy import array, argmax, random, take\n",
        "import pandas as pd\n",
        "import numpy as np\n",
        "import matplotlib.pyplot as plt\n",
        "\n",
        "from keras.preprocessing.text import Tokenizer\n",
        "from keras.preprocessing.sequence import pad_sequences"
      ]
    },
    {
      "cell_type": "code",
      "source": [
        "# Below is the function to read the raw text file\n",
        "def read_text(filename):\n",
        "        # open the file\n",
        "        file = open(filename, mode='rt', encoding='utf-8')\n",
        "        \n",
        "        # read all text\n",
        "        text = file.read()\n",
        "        file.close()\n",
        "        return text"
      ],
      "metadata": {
        "id": "ayToLSvE5KZ_"
      },
      "execution_count": 2,
      "outputs": []
    },
    {
      "cell_type": "code",
      "source": [
        "# defining a function to split the text into English-German pairs separated by ‘\\n’. \n",
        "# then split the text into sentences\n",
        "def to_lines(text):\n",
        "      sents = text.strip().split('\\n')\n",
        "      sents = [i.split('\\t') for i in sents]\n",
        "      return sents\n"
      ],
      "metadata": {
        "id": "2R-anwAU5Q8a"
      },
      "execution_count": 3,
      "outputs": []
    },
    {
      "cell_type": "markdown",
      "source": [
        "#### Importing our data and applying the above mentioned functions."
      ],
      "metadata": {
        "id": "JxF4oplQKZ1T"
      }
    },
    {
      "cell_type": "code",
      "source": [
        "#We can now use these functions to read the text into an array in our desired format.\n",
        "\n",
        "data = read_text(\"/content/drive/MyDrive/Colab Notebooks/DLProject//deu.txt\")\n",
        "deu_eng = to_lines(data)\n",
        "print(data[0:175])"
      ],
      "metadata": {
        "colab": {
          "base_uri": "https://localhost:8080/"
        },
        "id": "nUP-aSz3JyiH",
        "outputId": "b69aec25-ad45-4356-a6a7-a77935b62ab9"
      },
      "execution_count": 4,
      "outputs": [
        {
          "output_type": "stream",
          "name": "stdout",
          "text": [
            "Go.\tGeh.\tCC-BY 2.0 (France) Attribution: tatoeba.org #2877272 (CM) & #8597805 (Roujin)\n",
            "Hi.\tHallo!\tCC-BY 2.0 (France) Attribution: tatoeba.org #538123 (CM) & #380701 (cburgmer)\n"
          ]
        }
      ]
    },
    {
      "cell_type": "code",
      "source": [
        "#converting the data into an array\n",
        "deu_eng = array(deu_eng)"
      ],
      "metadata": {
        "id": "rSn3ojQN5UKr"
      },
      "execution_count": 5,
      "outputs": []
    },
    {
      "cell_type": "markdown",
      "source": [
        "#### The actual data contains over 255,000 sentence-pairs. However, we will use only the first 50,000 sentence pairs to reduce the training time of the model. You can change this number as per your system’s computation power"
      ],
      "metadata": {
        "id": "2oAzNOBGJl7u"
      }
    },
    {
      "cell_type": "code",
      "source": [
        "print(\"Raw data has\",deu_eng.shape[0],\"examples.\")"
      ],
      "metadata": {
        "colab": {
          "base_uri": "https://localhost:8080/"
        },
        "id": "6PjGCqFLPAk0",
        "outputId": "b81b08ba-1259-4601-bd3d-3b7e763b5f49"
      },
      "execution_count": 11,
      "outputs": [
        {
          "output_type": "stream",
          "name": "stdout",
          "text": [
            "Raw data has 255817 examples.\n"
          ]
        }
      ]
    },
    {
      "cell_type": "code",
      "source": [
        "deu_eng = deu_eng[:50000,:]\n",
        "deu_eng"
      ],
      "metadata": {
        "colab": {
          "base_uri": "https://localhost:8080/"
        },
        "id": "VedtmknQ56hK",
        "outputId": "9d07094b-6dfd-4cb4-efdb-1b7caa247149"
      },
      "execution_count": 12,
      "outputs": [
        {
          "output_type": "execute_result",
          "data": {
            "text/plain": [
              "array([['Go.', 'Geh.',\n",
              "        'CC-BY 2.0 (France) Attribution: tatoeba.org #2877272 (CM) & #8597805 (Roujin)'],\n",
              "       ['Hi.', 'Hallo!',\n",
              "        'CC-BY 2.0 (France) Attribution: tatoeba.org #538123 (CM) & #380701 (cburgmer)'],\n",
              "       ['Hi.', 'Grüß Gott!',\n",
              "        'CC-BY 2.0 (France) Attribution: tatoeba.org #538123 (CM) & #659813 (Esperantostern)'],\n",
              "       ...,\n",
              "       [\"They're coming again.\", 'Sie kommen wieder.',\n",
              "        'CC-BY 2.0 (France) Attribution: tatoeba.org #2243605 (CK) & #6643044 (Felixjp)'],\n",
              "       [\"They're coming again.\", 'Die kommen wieder.',\n",
              "        'CC-BY 2.0 (France) Attribution: tatoeba.org #2243605 (CK) & #6645385 (Felixjp)'],\n",
              "       [\"They're doing it now.\", 'Sie tun es jetzt.',\n",
              "        'CC-BY 2.0 (France) Attribution: tatoeba.org #3740220 (CK) & #3815719 (nGerman)']],\n",
              "      dtype='<U537')"
            ]
          },
          "metadata": {},
          "execution_count": 12
        }
      ]
    },
    {
      "cell_type": "code",
      "source": [
        "print(\"The size of data has been reduced to\",deu_eng.shape[0],\"examples.\")"
      ],
      "metadata": {
        "colab": {
          "base_uri": "https://localhost:8080/"
        },
        "id": "Ussbn35NPlTX",
        "outputId": "40a2057d-7bb1-4c79-eb16-d16fde7ff6aa"
      },
      "execution_count": 13,
      "outputs": [
        {
          "output_type": "stream",
          "name": "stdout",
          "text": [
            "The size of data has been reduced to 50000 examples.\n"
          ]
        }
      ]
    },
    {
      "cell_type": "markdown",
      "source": [
        "#### Removing unnecessary information by retaining only the required text parts."
      ],
      "metadata": {
        "id": "kbL11032K8Zg"
      }
    },
    {
      "cell_type": "code",
      "source": [
        "deu_eng1 = np.delete(deu_eng, 2 ,1)\n",
        "deu_eng1"
      ],
      "metadata": {
        "colab": {
          "base_uri": "https://localhost:8080/"
        },
        "id": "IfuQ4M-O8NP1",
        "outputId": "f6dd0833-f8e2-4d98-a7c3-9dae696e2ab9"
      },
      "execution_count": 14,
      "outputs": [
        {
          "output_type": "execute_result",
          "data": {
            "text/plain": [
              "array([['Go.', 'Geh.'],\n",
              "       ['Hi.', 'Hallo!'],\n",
              "       ['Hi.', 'Grüß Gott!'],\n",
              "       ...,\n",
              "       [\"They're coming again.\", 'Sie kommen wieder.'],\n",
              "       [\"They're coming again.\", 'Die kommen wieder.'],\n",
              "       [\"They're doing it now.\", 'Sie tun es jetzt.']], dtype='<U537')"
            ]
          },
          "metadata": {},
          "execution_count": 14
        }
      ]
    },
    {
      "cell_type": "markdown",
      "source": [
        "We will get rid of the punctuation marks and then convert all the text to lower case."
      ],
      "metadata": {
        "id": "X4uecYay9ucG"
      }
    },
    {
      "cell_type": "code",
      "source": [
        "# Remove punctuation\n",
        "deu_eng1[:,0] = [s.translate(str.maketrans('', '', string.punctuation)) for s in deu_eng1[:,0]]\n",
        "deu_eng1[:,1] = [s.translate(str.maketrans('', '', string.punctuation)) for s in deu_eng1[:,1]]\n",
        "\n",
        "deu_eng1"
      ],
      "metadata": {
        "colab": {
          "base_uri": "https://localhost:8080/"
        },
        "id": "n7oPNo8x8h-z",
        "outputId": "75070e5b-8051-4bee-a1d4-b187814e23e1"
      },
      "execution_count": 15,
      "outputs": [
        {
          "output_type": "execute_result",
          "data": {
            "text/plain": [
              "array([['Go', 'Geh'],\n",
              "       ['Hi', 'Hallo'],\n",
              "       ['Hi', 'Grüß Gott'],\n",
              "       ...,\n",
              "       ['Theyre coming again', 'Sie kommen wieder'],\n",
              "       ['Theyre coming again', 'Die kommen wieder'],\n",
              "       ['Theyre doing it now', 'Sie tun es jetzt']], dtype='<U537')"
            ]
          },
          "metadata": {},
          "execution_count": 15
        }
      ]
    },
    {
      "cell_type": "code",
      "source": [
        "# convert text to lowercase\n",
        "for i in range(len(deu_eng)):\n",
        "    deu_eng1[i,0] = deu_eng1[i,0].lower()\n",
        "    deu_eng1[i,1] = deu_eng1[i,1].lower()\n",
        "\n",
        "deu_eng1"
      ],
      "metadata": {
        "colab": {
          "base_uri": "https://localhost:8080/"
        },
        "id": "MSfKM5zn90Va",
        "outputId": "7025596a-d790-430e-fcc8-35c6963fb8ed"
      },
      "execution_count": 16,
      "outputs": [
        {
          "output_type": "execute_result",
          "data": {
            "text/plain": [
              "array([['go', 'geh'],\n",
              "       ['hi', 'hallo'],\n",
              "       ['hi', 'grüß gott'],\n",
              "       ...,\n",
              "       ['theyre coming again', 'sie kommen wieder'],\n",
              "       ['theyre coming again', 'die kommen wieder'],\n",
              "       ['theyre doing it now', 'sie tun es jetzt']], dtype='<U537')"
            ]
          },
          "metadata": {},
          "execution_count": 16
        }
      ]
    },
    {
      "cell_type": "markdown",
      "source": [
        "#### A Seq2Seq model requires that we convert both the input and the output sentences into integer sequences of fixed length.\n",
        "\n",
        "But before we do that, let’s visualise the length of the sentences. We will capture the lengths of all the sentences in two separate lists for English and German, respectively."
      ],
      "metadata": {
        "id": "EYhGwzRw-IhN"
      }
    },
    {
      "cell_type": "code",
      "source": [
        "# empty lists\n",
        "eng_l = []\n",
        "deu_l = []\n",
        "\n",
        "# populate the lists with sentence lengths\n",
        "for i in deu_eng1[:,0]:\n",
        "      eng_l.append(len(i.split()))\n",
        "\n",
        "for i in deu_eng1[:,1]:\n",
        "      deu_l.append(len(i.split()))\n",
        "\n",
        "print()"
      ],
      "metadata": {
        "colab": {
          "base_uri": "https://localhost:8080/"
        },
        "id": "1izGfgTQ-MuM",
        "outputId": "676c3ecf-bbbc-453e-a23e-096e2d9b8c54"
      },
      "execution_count": 17,
      "outputs": [
        {
          "output_type": "stream",
          "name": "stdout",
          "text": [
            "\n"
          ]
        }
      ]
    },
    {
      "cell_type": "markdown",
      "source": [
        "Visualizing and comparing the length of sentences in both languages"
      ],
      "metadata": {
        "id": "RlARFWB8AXPj"
      }
    },
    {
      "cell_type": "code",
      "source": [
        "length_df = pd.DataFrame({'eng':eng_l, 'deu':deu_l})\n",
        "\n",
        "length_df.hist(bins = 25)\n",
        "plt.show()"
      ],
      "metadata": {
        "colab": {
          "base_uri": "https://localhost:8080/",
          "height": 281
        },
        "id": "D3CwXMq-AV4M",
        "outputId": "6ed5a151-fba7-4add-82c4-0b105a105715"
      },
      "execution_count": 26,
      "outputs": [
        {
          "output_type": "display_data",
          "data": {
            "text/plain": [
              "<Figure size 432x288 with 2 Axes>"
            ],
            "image/png": "[encoded data removed]"
          },
          "metadata": {
            "needs_background": "light"
          }
        }
      ]
    },
    {
      "cell_type": "markdown",
      "source": [
        "The maximum length of the German sentences is 8 and that of the English phrases is 6."
      ],
      "metadata": {
        "id": "CUkWRGn5-kb6"
      }
    },
    {
      "cell_type": "markdown",
      "source": [
        "#### Now, vectorize our text data by using Keras’s Tokenizer() class. It will turn our sentences into sequences of integers. We can then pad those sequences with zeros to make all the sequences of the same length."
      ],
      "metadata": {
        "id": "JvIG7hcI-yoO"
      }
    },
    {
      "cell_type": "code",
      "source": [
        "# function to build a tokenizer\n",
        "def tokenization(lines):\n",
        "      tokenizer = Tokenizer()\n",
        "      tokenizer.fit_on_texts(lines)\n",
        "      return tokenizer"
      ],
      "metadata": {
        "id": "gIXUVvOW-XM4"
      },
      "execution_count": 19,
      "outputs": []
    },
    {
      "cell_type": "code",
      "source": [
        "# preparing english tokenizer\n",
        "eng_tokenizer = tokenization(deu_eng1[:, 0])\n",
        "eng_vocab_size = len(eng_tokenizer.word_index) + 1\n",
        "\n",
        "print('English Vocabulary Size: %d' % eng_vocab_size)"
      ],
      "metadata": {
        "colab": {
          "base_uri": "https://localhost:8080/"
        },
        "id": "EDOB2N0K-4yV",
        "outputId": "ee4b73e7-5c32-43a2-c9e6-c09a99a5aab7"
      },
      "execution_count": 20,
      "outputs": [
        {
          "output_type": "stream",
          "name": "stdout",
          "text": [
            "English Vocabulary Size: 6125\n"
          ]
        }
      ]
    },
    {
      "cell_type": "code",
      "source": [
        "# preparing Deutch tokenizer\n",
        "deu_tokenizer = tokenization(deu_eng1[:, 1])\n",
        "deu_vocab_size = len(deu_tokenizer.word_index) + 1\n",
        "\n",
        "print('Deutch Vocabulary Size: %d' % deu_vocab_size)"
      ],
      "metadata": {
        "colab": {
          "base_uri": "https://localhost:8080/"
        },
        "id": "GTMpIqTL-85w",
        "outputId": "ddf2b2a2-d223-4512-b4f8-cf2d395caee5"
      },
      "execution_count": 21,
      "outputs": [
        {
          "output_type": "stream",
          "name": "stdout",
          "text": [
            "Deutch Vocabulary Size: 10059\n"
          ]
        }
      ]
    },
    {
      "cell_type": "markdown",
      "source": [
        "The below code block contains a function to prepare the sequences"
      ],
      "metadata": {
        "id": "wkm_c5pf_RKG"
      }
    },
    {
      "cell_type": "code",
      "source": [
        "# encode and pad sequences\n",
        "def encode_sequences(tokenizer, length, lines):\n",
        "         # integer encode sequences\n",
        "         seq = tokenizer.texts_to_sequences(lines)\n",
        "         # pad sequences with 0 values\n",
        "         seq = pad_sequences(seq, maxlen=length, padding='post')\n",
        "         return seq"
      ],
      "metadata": {
        "id": "hDJ-9jQB_JG5"
      },
      "execution_count": 22,
      "outputs": []
    },
    {
      "cell_type": "markdown",
      "source": [
        "### ***Conclusion:*** "
      ],
      "metadata": {
        "id": "sgfdIcJGMgo_"
      }
    },
    {
      "cell_type": "markdown",
      "source": [
        "#### *We have removed all the unnecessary information from the raw data and performed data cleaning/pre-processing. Now, this data can be used to be fed into various Deep Learning models & compare their performances.*"
      ],
      "metadata": {
        "id": "_qsIQiAJ_XXS"
      }
    }
  ]
}